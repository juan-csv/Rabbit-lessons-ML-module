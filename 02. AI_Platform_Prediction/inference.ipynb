{
 "metadata": {
  "language_info": {
   "codemirror_mode": {
    "name": "ipython",
    "version": 3
   },
   "file_extension": ".py",
   "mimetype": "text/x-python",
   "name": "python",
   "nbconvert_exporter": "python",
   "pygments_lexer": "ipython3",
   "version": "3.8.5"
  },
  "orig_nbformat": 2,
  "kernelspec": {
   "name": "python385jvsc74a57bd04a64d8e05436eb44142eb50eb52ba7fe11bf3b9fdb34fcbbedc3b49239359503",
   "display_name": "Python 3.8.5 64-bit ('base': conda)"
  }
 },
 "nbformat": 4,
 "nbformat_minor": 2,
 "cells": [
  {
   "cell_type": "code",
   "execution_count": 2,
   "metadata": {},
   "outputs": [],
   "source": [
    "import f_functions as f\n",
    "import pandas as pd\n",
    "import numpy as np"
   ]
  },
  {
   "cell_type": "code",
   "execution_count": 3,
   "metadata": {},
   "outputs": [],
   "source": [
    "local = True\n",
    "if local:\n",
    "    import os\n",
    "    os.environ[\"GOOGLE_APPLICATION_CREDENTIALS\"]=\"/Users/macbook/Desktop/Rabbit/key/key.json\""
   ]
  },
  {
   "source": [
    "# Load dataset for test"
   ],
   "cell_type": "markdown",
   "metadata": {}
  },
  {
   "cell_type": "code",
   "execution_count": 4,
   "metadata": {},
   "outputs": [
    {
     "output_type": "execute_result",
     "data": {
      "text/plain": [
       "      Unnamed: 0       age  education_num  hours_per_week  income_bracket  \\\n",
       "0             18  0.479452       0.266667        0.397959               1   \n",
       "1             50  0.232877       0.400000        0.071429               1   \n",
       "2             53  0.410959       0.400000        0.397959               1   \n",
       "3             57  0.356164       0.400000        0.244898               1   \n",
       "4             58  0.506849       0.400000        0.428571               1   \n",
       "...          ...       ...            ...             ...             ...   \n",
       "1558       15968  0.246575       0.533333        0.602041               1   \n",
       "1559       15978  0.410959       0.533333        0.377551               0   \n",
       "1560       15983  0.095890       0.533333        0.397959               1   \n",
       "1561       15984  0.205479       0.533333        0.397959               1   \n",
       "1562       15989  0.054795       0.533333        0.397959               1   \n",
       "\n",
       "       dataframe  workclass_ ?  workclass_ Federal-gov  workclass_ Local-gov  \\\n",
       "0     prediction             0                       0                     1   \n",
       "1     prediction             1                       0                     0   \n",
       "2     prediction             0                       0                     0   \n",
       "3     prediction             0                       0                     0   \n",
       "4     prediction             0                       0                     0   \n",
       "...          ...           ...                     ...                   ...   \n",
       "1558  prediction             0                       0                     0   \n",
       "1559  prediction             0                       0                     0   \n",
       "1560  prediction             0                       0                     0   \n",
       "1561  prediction             0                       0                     0   \n",
       "1562  prediction             0                       0                     0   \n",
       "\n",
       "      workclass_ Never-worked  ...  occupation_ Prof-specialty  \\\n",
       "0                           0  ...                           0   \n",
       "1                           0  ...                           0   \n",
       "2                           0  ...                           0   \n",
       "3                           0  ...                           0   \n",
       "4                           0  ...                           0   \n",
       "...                       ...  ...                         ...   \n",
       "1558                        0  ...                           0   \n",
       "1559                        0  ...                           0   \n",
       "1560                        0  ...                           0   \n",
       "1561                        0  ...                           0   \n",
       "1562                        0  ...                           0   \n",
       "\n",
       "      occupation_ Protective-serv  occupation_ Sales  \\\n",
       "0                               0                  0   \n",
       "1                               0                  0   \n",
       "2                               0                  0   \n",
       "3                               0                  0   \n",
       "4                               0                  0   \n",
       "...                           ...                ...   \n",
       "1558                            0                  0   \n",
       "1559                            0                  1   \n",
       "1560                            0                  0   \n",
       "1561                            0                  0   \n",
       "1562                            0                  0   \n",
       "\n",
       "      occupation_ Tech-support  occupation_ Transport-moving  \\\n",
       "0                            0                             0   \n",
       "1                            0                             0   \n",
       "2                            0                             0   \n",
       "3                            0                             0   \n",
       "4                            0                             0   \n",
       "...                        ...                           ...   \n",
       "1558                         0                             1   \n",
       "1559                         0                             0   \n",
       "1560                         0                             0   \n",
       "1561                         0                             0   \n",
       "1562                         0                             0   \n",
       "\n",
       "      race_ Amer-Indian-Eskimo  race_ Asian-Pac-Islander  race_ Black  \\\n",
       "0                            0                         0            0   \n",
       "1                            0                         0            0   \n",
       "2                            0                         0            1   \n",
       "3                            0                         0            0   \n",
       "4                            0                         0            0   \n",
       "...                        ...                       ...          ...   \n",
       "1558                         0                         1            0   \n",
       "1559                         0                         0            0   \n",
       "1560                         0                         0            0   \n",
       "1561                         0                         0            0   \n",
       "1562                         0                         0            0   \n",
       "\n",
       "      race_ Other  race_ White  \n",
       "0               0            1  \n",
       "1               0            1  \n",
       "2               0            0  \n",
       "3               0            1  \n",
       "4               0            1  \n",
       "...           ...          ...  \n",
       "1558            0            0  \n",
       "1559            0            1  \n",
       "1560            0            1  \n",
       "1561            0            1  \n",
       "1562            0            1  \n",
       "\n",
       "[1563 rows x 83 columns]"
      ],
      "text/html": "<div>\n<style scoped>\n    .dataframe tbody tr th:only-of-type {\n        vertical-align: middle;\n    }\n\n    .dataframe tbody tr th {\n        vertical-align: top;\n    }\n\n    .dataframe thead th {\n        text-align: right;\n    }\n</style>\n<table border=\"1\" class=\"dataframe\">\n  <thead>\n    <tr style=\"text-align: right;\">\n      <th></th>\n      <th>Unnamed: 0</th>\n      <th>age</th>\n      <th>education_num</th>\n      <th>hours_per_week</th>\n      <th>income_bracket</th>\n      <th>dataframe</th>\n      <th>workclass_ ?</th>\n      <th>workclass_ Federal-gov</th>\n      <th>workclass_ Local-gov</th>\n      <th>workclass_ Never-worked</th>\n      <th>...</th>\n      <th>occupation_ Prof-specialty</th>\n      <th>occupation_ Protective-serv</th>\n      <th>occupation_ Sales</th>\n      <th>occupation_ Tech-support</th>\n      <th>occupation_ Transport-moving</th>\n      <th>race_ Amer-Indian-Eskimo</th>\n      <th>race_ Asian-Pac-Islander</th>\n      <th>race_ Black</th>\n      <th>race_ Other</th>\n      <th>race_ White</th>\n    </tr>\n  </thead>\n  <tbody>\n    <tr>\n      <th>0</th>\n      <td>18</td>\n      <td>0.479452</td>\n      <td>0.266667</td>\n      <td>0.397959</td>\n      <td>1</td>\n      <td>prediction</td>\n      <td>0</td>\n      <td>0</td>\n      <td>1</td>\n      <td>0</td>\n      <td>...</td>\n      <td>0</td>\n      <td>0</td>\n      <td>0</td>\n      <td>0</td>\n      <td>0</td>\n      <td>0</td>\n      <td>0</td>\n      <td>0</td>\n      <td>0</td>\n      <td>1</td>\n    </tr>\n    <tr>\n      <th>1</th>\n      <td>50</td>\n      <td>0.232877</td>\n      <td>0.400000</td>\n      <td>0.071429</td>\n      <td>1</td>\n      <td>prediction</td>\n      <td>1</td>\n      <td>0</td>\n      <td>0</td>\n      <td>0</td>\n      <td>...</td>\n      <td>0</td>\n      <td>0</td>\n      <td>0</td>\n      <td>0</td>\n      <td>0</td>\n      <td>0</td>\n      <td>0</td>\n      <td>0</td>\n      <td>0</td>\n      <td>1</td>\n    </tr>\n    <tr>\n      <th>2</th>\n      <td>53</td>\n      <td>0.410959</td>\n      <td>0.400000</td>\n      <td>0.397959</td>\n      <td>1</td>\n      <td>prediction</td>\n      <td>0</td>\n      <td>0</td>\n      <td>0</td>\n      <td>0</td>\n      <td>...</td>\n      <td>0</td>\n      <td>0</td>\n      <td>0</td>\n      <td>0</td>\n      <td>0</td>\n      <td>0</td>\n      <td>0</td>\n      <td>1</td>\n      <td>0</td>\n      <td>0</td>\n    </tr>\n    <tr>\n      <th>3</th>\n      <td>57</td>\n      <td>0.356164</td>\n      <td>0.400000</td>\n      <td>0.244898</td>\n      <td>1</td>\n      <td>prediction</td>\n      <td>0</td>\n      <td>0</td>\n      <td>0</td>\n      <td>0</td>\n      <td>...</td>\n      <td>0</td>\n      <td>0</td>\n      <td>0</td>\n      <td>0</td>\n      <td>0</td>\n      <td>0</td>\n      <td>0</td>\n      <td>0</td>\n      <td>0</td>\n      <td>1</td>\n    </tr>\n    <tr>\n      <th>4</th>\n      <td>58</td>\n      <td>0.506849</td>\n      <td>0.400000</td>\n      <td>0.428571</td>\n      <td>1</td>\n      <td>prediction</td>\n      <td>0</td>\n      <td>0</td>\n      <td>0</td>\n      <td>0</td>\n      <td>...</td>\n      <td>0</td>\n      <td>0</td>\n      <td>0</td>\n      <td>0</td>\n      <td>0</td>\n      <td>0</td>\n      <td>0</td>\n      <td>0</td>\n      <td>0</td>\n      <td>1</td>\n    </tr>\n    <tr>\n      <th>...</th>\n      <td>...</td>\n      <td>...</td>\n      <td>...</td>\n      <td>...</td>\n      <td>...</td>\n      <td>...</td>\n      <td>...</td>\n      <td>...</td>\n      <td>...</td>\n      <td>...</td>\n      <td>...</td>\n      <td>...</td>\n      <td>...</td>\n      <td>...</td>\n      <td>...</td>\n      <td>...</td>\n      <td>...</td>\n      <td>...</td>\n      <td>...</td>\n      <td>...</td>\n      <td>...</td>\n    </tr>\n    <tr>\n      <th>1558</th>\n      <td>15968</td>\n      <td>0.246575</td>\n      <td>0.533333</td>\n      <td>0.602041</td>\n      <td>1</td>\n      <td>prediction</td>\n      <td>0</td>\n      <td>0</td>\n      <td>0</td>\n      <td>0</td>\n      <td>...</td>\n      <td>0</td>\n      <td>0</td>\n      <td>0</td>\n      <td>0</td>\n      <td>1</td>\n      <td>0</td>\n      <td>1</td>\n      <td>0</td>\n      <td>0</td>\n      <td>0</td>\n    </tr>\n    <tr>\n      <th>1559</th>\n      <td>15978</td>\n      <td>0.410959</td>\n      <td>0.533333</td>\n      <td>0.377551</td>\n      <td>0</td>\n      <td>prediction</td>\n      <td>0</td>\n      <td>0</td>\n      <td>0</td>\n      <td>0</td>\n      <td>...</td>\n      <td>0</td>\n      <td>0</td>\n      <td>1</td>\n      <td>0</td>\n      <td>0</td>\n      <td>0</td>\n      <td>0</td>\n      <td>0</td>\n      <td>0</td>\n      <td>1</td>\n    </tr>\n    <tr>\n      <th>1560</th>\n      <td>15983</td>\n      <td>0.095890</td>\n      <td>0.533333</td>\n      <td>0.397959</td>\n      <td>1</td>\n      <td>prediction</td>\n      <td>0</td>\n      <td>0</td>\n      <td>0</td>\n      <td>0</td>\n      <td>...</td>\n      <td>0</td>\n      <td>0</td>\n      <td>0</td>\n      <td>0</td>\n      <td>0</td>\n      <td>0</td>\n      <td>0</td>\n      <td>0</td>\n      <td>0</td>\n      <td>1</td>\n    </tr>\n    <tr>\n      <th>1561</th>\n      <td>15984</td>\n      <td>0.205479</td>\n      <td>0.533333</td>\n      <td>0.397959</td>\n      <td>1</td>\n      <td>prediction</td>\n      <td>0</td>\n      <td>0</td>\n      <td>0</td>\n      <td>0</td>\n      <td>...</td>\n      <td>0</td>\n      <td>0</td>\n      <td>0</td>\n      <td>0</td>\n      <td>0</td>\n      <td>0</td>\n      <td>0</td>\n      <td>0</td>\n      <td>0</td>\n      <td>1</td>\n    </tr>\n    <tr>\n      <th>1562</th>\n      <td>15989</td>\n      <td>0.054795</td>\n      <td>0.533333</td>\n      <td>0.397959</td>\n      <td>1</td>\n      <td>prediction</td>\n      <td>0</td>\n      <td>0</td>\n      <td>0</td>\n      <td>0</td>\n      <td>...</td>\n      <td>0</td>\n      <td>0</td>\n      <td>0</td>\n      <td>0</td>\n      <td>0</td>\n      <td>0</td>\n      <td>0</td>\n      <td>0</td>\n      <td>0</td>\n      <td>1</td>\n    </tr>\n  </tbody>\n</table>\n<p>1563 rows × 83 columns</p>\n</div>"
     },
     "metadata": {},
     "execution_count": 4
    }
   ],
   "source": [
    "path_dataset = \"test_census.csv\"\n",
    "df = pd.read_csv(path_dataset)\n",
    "x = df.drop([\"Unnamed: 0\",\"income_bracket\",\"dataframe\"],axis=1)\n",
    "y = list(df[\"income_bracket\"])\n",
    "\n",
    "data_to_predict = x.iloc[0:].values.tolist()\n",
    "df"
   ]
  },
  {
   "source": [
    "# Inference"
   ],
   "cell_type": "markdown",
   "metadata": {}
  },
  {
   "cell_type": "code",
   "execution_count": 5,
   "metadata": {},
   "outputs": [],
   "source": [
    "response = f.predict_json(project=\"interno-rabbit-academy-qa\", \n",
    "                        region=\"us-central1\", \n",
    "                        model=\"juan_test\", \n",
    "                        instances=data_to_predict, \n",
    "                        version=\"v01\")"
   ]
  },
  {
   "cell_type": "code",
   "execution_count": 6,
   "metadata": {},
   "outputs": [],
   "source": [
    "# transform probabilities to 1 or 0 values\n",
    "predicted = [1 if r[0]>=0.5 else 0 for r in response]"
   ]
  },
  {
   "cell_type": "code",
   "execution_count": 7,
   "metadata": {},
   "outputs": [
    {
     "output_type": "execute_result",
     "data": {
      "text/plain": [
       "      predicted  real\n",
       "0             1     1\n",
       "1             1     1\n",
       "2             1     1\n",
       "3             1     1\n",
       "4             1     1\n",
       "...         ...   ...\n",
       "1558          1     1\n",
       "1559          1     0\n",
       "1560          1     1\n",
       "1561          1     1\n",
       "1562          1     1\n",
       "\n",
       "[1563 rows x 2 columns]"
      ],
      "text/html": "<div>\n<style scoped>\n    .dataframe tbody tr th:only-of-type {\n        vertical-align: middle;\n    }\n\n    .dataframe tbody tr th {\n        vertical-align: top;\n    }\n\n    .dataframe thead th {\n        text-align: right;\n    }\n</style>\n<table border=\"1\" class=\"dataframe\">\n  <thead>\n    <tr style=\"text-align: right;\">\n      <th></th>\n      <th>predicted</th>\n      <th>real</th>\n    </tr>\n  </thead>\n  <tbody>\n    <tr>\n      <th>0</th>\n      <td>1</td>\n      <td>1</td>\n    </tr>\n    <tr>\n      <th>1</th>\n      <td>1</td>\n      <td>1</td>\n    </tr>\n    <tr>\n      <th>2</th>\n      <td>1</td>\n      <td>1</td>\n    </tr>\n    <tr>\n      <th>3</th>\n      <td>1</td>\n      <td>1</td>\n    </tr>\n    <tr>\n      <th>4</th>\n      <td>1</td>\n      <td>1</td>\n    </tr>\n    <tr>\n      <th>...</th>\n      <td>...</td>\n      <td>...</td>\n    </tr>\n    <tr>\n      <th>1558</th>\n      <td>1</td>\n      <td>1</td>\n    </tr>\n    <tr>\n      <th>1559</th>\n      <td>1</td>\n      <td>0</td>\n    </tr>\n    <tr>\n      <th>1560</th>\n      <td>1</td>\n      <td>1</td>\n    </tr>\n    <tr>\n      <th>1561</th>\n      <td>1</td>\n      <td>1</td>\n    </tr>\n    <tr>\n      <th>1562</th>\n      <td>1</td>\n      <td>1</td>\n    </tr>\n  </tbody>\n</table>\n<p>1563 rows × 2 columns</p>\n</div>"
     },
     "metadata": {},
     "execution_count": 7
    }
   ],
   "source": [
    "pd.DataFrame({\"predicted\":predicted, \"real\":y})"
   ]
  },
  {
   "source": [
    "# Calculate Acc in test"
   ],
   "cell_type": "markdown",
   "metadata": {}
  },
  {
   "cell_type": "code",
   "execution_count": 16,
   "metadata": {},
   "outputs": [
    {
     "output_type": "stream",
     "name": "stdout",
     "text": [
      "predicciones correctas -------->    1434 de 1563\nAcierto en test ---------------->   91.75%\n"
     ]
    }
   ],
   "source": [
    "err = np.sum(np.array(predicted)-np.array(y))\n",
    "N = len(x) \n",
    "print(f\"Predicciones correctas -------->    {N-err} de {N}\")\n",
    "print(f\"Acierto en test ---------------->   {(N-err)/N*100:.2f}%\")"
   ]
  },
  {
   "cell_type": "code",
   "execution_count": null,
   "metadata": {},
   "outputs": [],
   "source": []
  }
 ]
}