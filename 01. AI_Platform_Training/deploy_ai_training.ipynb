{
 "metadata": {
  "language_info": {
   "codemirror_mode": {
    "name": "ipython",
    "version": 3
   },
   "file_extension": ".py",
   "mimetype": "text/x-python",
   "name": "python",
   "nbconvert_exporter": "python",
   "pygments_lexer": "ipython3",
   "version": "3.8.5"
  },
  "orig_nbformat": 2,
  "kernelspec": {
   "name": "python385jvsc74a57bd04a64d8e05436eb44142eb50eb52ba7fe11bf3b9fdb34fcbbedc3b49239359503",
   "display_name": "Python 3.8.5 64-bit ('base': conda)"
  }
 },
 "nbformat": 4,
 "nbformat_minor": 2,
 "cells": [
  {
   "source": [
    "# Submit Job"
   ],
   "cell_type": "markdown",
   "metadata": {}
  },
  {
   "cell_type": "code",
   "execution_count": 20,
   "metadata": {},
   "outputs": [
    {
     "output_type": "stream",
     "name": "stderr",
     "text": [
      "ERROR: (gcloud.ai-platform.jobs.submit.training) 403 Could not upload file [/var/folders/t4/c2kdpvnj6r793w3k056dkc640000gp/T/tmps_604ddu/output/trainer-0.1.tar.gz] to [datasets-rabbit/rabbit_210505_184006/041ff8a71253bda82ac55814b8d9b1a0fba6ebffc12862ef8f93cdbb996713fd/trainer-0.1.tar.gz]: jl@oiga.com does not have storage.objects.create access to the Google Cloud Storage object.\n"
     ]
    },
    {
     "output_type": "error",
     "ename": "CalledProcessError",
     "evalue": "Command 'b'\\nBUCKET=datasets-rabbit\\nOUTDIR=gs://${BUCKET}/models\\nJOBID=rabbit_$(date -u +%y%m%d_%H%M%S)\\nTFVERSION=2.1\\nPYTHONVERSION=3.7\\n\\n\\ngcloud ai-platform jobs submit training ${JOBID} \\\\\\n    --region=us-central1 \\\\\\n    --module-name=$(pwd)/trainer/task.py \\\\\\n    --package-path=$(pwd)/trainer \\\\\\n    --job-dir=${OUTDIR} \\\\\\n    --staging-bucket=gs://${BUCKET} \\\\\\n    --master-machine-type=n1-standard-8 \\\\\\n    --scale-tier=CUSTOM \\\\\\n    --runtime-version=${TFVERSION} \\\\\\n    --python-version=${PYTHONVERSION} \\\\\\n    --\\\\\\n    --BUCKET=${BUCKET} \\\\\\n    --FILE_TRAIN=train_census.csv \\\\\\n    --FILE_VAL=validation_census.csv \\\\\\n    --OUTPUT_DIR={OUTDIR} \\\\\\n    --DENSE_UNITS=32 \\\\\\n    --EPOCHS=10 \\\\\\n    --BATCH_SIZE=256 \\n'' returned non-zero exit status 1.",
     "traceback": [
      "\u001b[0;31m---------------------------------------------------------------------------\u001b[0m",
      "\u001b[0;31mCalledProcessError\u001b[0m                        Traceback (most recent call last)",
      "\u001b[0;32m<ipython-input-20-fe1106b925f9>\u001b[0m in \u001b[0;36m<module>\u001b[0;34m\u001b[0m\n\u001b[0;32m----> 1\u001b[0;31m \u001b[0mget_ipython\u001b[0m\u001b[0;34m(\u001b[0m\u001b[0;34m)\u001b[0m\u001b[0;34m.\u001b[0m\u001b[0mrun_cell_magic\u001b[0m\u001b[0;34m(\u001b[0m\u001b[0;34m'bash'\u001b[0m\u001b[0;34m,\u001b[0m \u001b[0;34m''\u001b[0m\u001b[0;34m,\u001b[0m \u001b[0;34m'\\nBUCKET=datasets-rabbit\\nOUTDIR=gs://${BUCKET}/models\\nJOBID=rabbit_$(date -u +%y%m%d_%H%M%S)\\nTFVERSION=2.1\\nPYTHONVERSION=3.7\\n\\n\\ngcloud ai-platform jobs submit training ${JOBID} \\\\\\n    --region=us-central1 \\\\\\n    --module-name=$(pwd)/trainer/task.py \\\\\\n    --package-path=$(pwd)/trainer \\\\\\n    --job-dir=${OUTDIR} \\\\\\n    --staging-bucket=gs://${BUCKET} \\\\\\n    --master-machine-type=n1-standard-8 \\\\\\n    --scale-tier=CUSTOM \\\\\\n    --runtime-version=${TFVERSION} \\\\\\n    --python-version=${PYTHONVERSION} \\\\\\n    --\\\\\\n    --BUCKET=${BUCKET} \\\\\\n    --FILE_TRAIN=train_census.csv \\\\\\n    --FILE_VAL=validation_census.csv \\\\\\n    --OUTPUT_DIR={OUTDIR} \\\\\\n    --DENSE_UNITS=32 \\\\\\n    --EPOCHS=10 \\\\\\n    --BATCH_SIZE=256 \\n'\u001b[0m\u001b[0;34m)\u001b[0m\u001b[0;34m\u001b[0m\u001b[0;34m\u001b[0m\u001b[0m\n\u001b[0m",
      "\u001b[0;32m~/opt/anaconda3/lib/python3.8/site-packages/IPython/core/interactiveshell.py\u001b[0m in \u001b[0;36mrun_cell_magic\u001b[0;34m(self, magic_name, line, cell)\u001b[0m\n\u001b[1;32m   2380\u001b[0m             \u001b[0;32mwith\u001b[0m \u001b[0mself\u001b[0m\u001b[0;34m.\u001b[0m\u001b[0mbuiltin_trap\u001b[0m\u001b[0;34m:\u001b[0m\u001b[0;34m\u001b[0m\u001b[0;34m\u001b[0m\u001b[0m\n\u001b[1;32m   2381\u001b[0m                 \u001b[0margs\u001b[0m \u001b[0;34m=\u001b[0m \u001b[0;34m(\u001b[0m\u001b[0mmagic_arg_s\u001b[0m\u001b[0;34m,\u001b[0m \u001b[0mcell\u001b[0m\u001b[0;34m)\u001b[0m\u001b[0;34m\u001b[0m\u001b[0;34m\u001b[0m\u001b[0m\n\u001b[0;32m-> 2382\u001b[0;31m                 \u001b[0mresult\u001b[0m \u001b[0;34m=\u001b[0m \u001b[0mfn\u001b[0m\u001b[0;34m(\u001b[0m\u001b[0;34m*\u001b[0m\u001b[0margs\u001b[0m\u001b[0;34m,\u001b[0m \u001b[0;34m**\u001b[0m\u001b[0mkwargs\u001b[0m\u001b[0;34m)\u001b[0m\u001b[0;34m\u001b[0m\u001b[0;34m\u001b[0m\u001b[0m\n\u001b[0m\u001b[1;32m   2383\u001b[0m             \u001b[0;32mreturn\u001b[0m \u001b[0mresult\u001b[0m\u001b[0;34m\u001b[0m\u001b[0;34m\u001b[0m\u001b[0m\n\u001b[1;32m   2384\u001b[0m \u001b[0;34m\u001b[0m\u001b[0m\n",
      "\u001b[0;32m~/opt/anaconda3/lib/python3.8/site-packages/IPython/core/magics/script.py\u001b[0m in \u001b[0;36mnamed_script_magic\u001b[0;34m(line, cell)\u001b[0m\n\u001b[1;32m    140\u001b[0m             \u001b[0;32melse\u001b[0m\u001b[0;34m:\u001b[0m\u001b[0;34m\u001b[0m\u001b[0;34m\u001b[0m\u001b[0m\n\u001b[1;32m    141\u001b[0m                 \u001b[0mline\u001b[0m \u001b[0;34m=\u001b[0m \u001b[0mscript\u001b[0m\u001b[0;34m\u001b[0m\u001b[0;34m\u001b[0m\u001b[0m\n\u001b[0;32m--> 142\u001b[0;31m             \u001b[0;32mreturn\u001b[0m \u001b[0mself\u001b[0m\u001b[0;34m.\u001b[0m\u001b[0mshebang\u001b[0m\u001b[0;34m(\u001b[0m\u001b[0mline\u001b[0m\u001b[0;34m,\u001b[0m \u001b[0mcell\u001b[0m\u001b[0;34m)\u001b[0m\u001b[0;34m\u001b[0m\u001b[0;34m\u001b[0m\u001b[0m\n\u001b[0m\u001b[1;32m    143\u001b[0m \u001b[0;34m\u001b[0m\u001b[0m\n\u001b[1;32m    144\u001b[0m         \u001b[0;31m# write a basic docstring:\u001b[0m\u001b[0;34m\u001b[0m\u001b[0;34m\u001b[0m\u001b[0;34m\u001b[0m\u001b[0m\n",
      "\u001b[0;32m<decorator-gen-103>\u001b[0m in \u001b[0;36mshebang\u001b[0;34m(self, line, cell)\u001b[0m\n",
      "\u001b[0;32m~/opt/anaconda3/lib/python3.8/site-packages/IPython/core/magic.py\u001b[0m in \u001b[0;36m<lambda>\u001b[0;34m(f, *a, **k)\u001b[0m\n\u001b[1;32m    185\u001b[0m     \u001b[0;31m# but it's overkill for just that one bit of state.\u001b[0m\u001b[0;34m\u001b[0m\u001b[0;34m\u001b[0m\u001b[0;34m\u001b[0m\u001b[0m\n\u001b[1;32m    186\u001b[0m     \u001b[0;32mdef\u001b[0m \u001b[0mmagic_deco\u001b[0m\u001b[0;34m(\u001b[0m\u001b[0marg\u001b[0m\u001b[0;34m)\u001b[0m\u001b[0;34m:\u001b[0m\u001b[0;34m\u001b[0m\u001b[0;34m\u001b[0m\u001b[0m\n\u001b[0;32m--> 187\u001b[0;31m         \u001b[0mcall\u001b[0m \u001b[0;34m=\u001b[0m \u001b[0;32mlambda\u001b[0m \u001b[0mf\u001b[0m\u001b[0;34m,\u001b[0m \u001b[0;34m*\u001b[0m\u001b[0ma\u001b[0m\u001b[0;34m,\u001b[0m \u001b[0;34m**\u001b[0m\u001b[0mk\u001b[0m\u001b[0;34m:\u001b[0m \u001b[0mf\u001b[0m\u001b[0;34m(\u001b[0m\u001b[0;34m*\u001b[0m\u001b[0ma\u001b[0m\u001b[0;34m,\u001b[0m \u001b[0;34m**\u001b[0m\u001b[0mk\u001b[0m\u001b[0;34m)\u001b[0m\u001b[0;34m\u001b[0m\u001b[0;34m\u001b[0m\u001b[0m\n\u001b[0m\u001b[1;32m    188\u001b[0m \u001b[0;34m\u001b[0m\u001b[0m\n\u001b[1;32m    189\u001b[0m         \u001b[0;32mif\u001b[0m \u001b[0mcallable\u001b[0m\u001b[0;34m(\u001b[0m\u001b[0marg\u001b[0m\u001b[0;34m)\u001b[0m\u001b[0;34m:\u001b[0m\u001b[0;34m\u001b[0m\u001b[0;34m\u001b[0m\u001b[0m\n",
      "\u001b[0;32m~/opt/anaconda3/lib/python3.8/site-packages/IPython/core/magics/script.py\u001b[0m in \u001b[0;36mshebang\u001b[0;34m(self, line, cell)\u001b[0m\n\u001b[1;32m    243\u001b[0m             \u001b[0msys\u001b[0m\u001b[0;34m.\u001b[0m\u001b[0mstderr\u001b[0m\u001b[0;34m.\u001b[0m\u001b[0mflush\u001b[0m\u001b[0;34m(\u001b[0m\u001b[0;34m)\u001b[0m\u001b[0;34m\u001b[0m\u001b[0;34m\u001b[0m\u001b[0m\n\u001b[1;32m    244\u001b[0m         \u001b[0;32mif\u001b[0m \u001b[0margs\u001b[0m\u001b[0;34m.\u001b[0m\u001b[0mraise_error\u001b[0m \u001b[0;32mand\u001b[0m \u001b[0mp\u001b[0m\u001b[0;34m.\u001b[0m\u001b[0mreturncode\u001b[0m\u001b[0;34m!=\u001b[0m\u001b[0;36m0\u001b[0m\u001b[0;34m:\u001b[0m\u001b[0;34m\u001b[0m\u001b[0;34m\u001b[0m\u001b[0m\n\u001b[0;32m--> 245\u001b[0;31m             \u001b[0;32mraise\u001b[0m \u001b[0mCalledProcessError\u001b[0m\u001b[0;34m(\u001b[0m\u001b[0mp\u001b[0m\u001b[0;34m.\u001b[0m\u001b[0mreturncode\u001b[0m\u001b[0;34m,\u001b[0m \u001b[0mcell\u001b[0m\u001b[0;34m,\u001b[0m \u001b[0moutput\u001b[0m\u001b[0;34m=\u001b[0m\u001b[0mout\u001b[0m\u001b[0;34m,\u001b[0m \u001b[0mstderr\u001b[0m\u001b[0;34m=\u001b[0m\u001b[0merr\u001b[0m\u001b[0;34m)\u001b[0m\u001b[0;34m\u001b[0m\u001b[0;34m\u001b[0m\u001b[0m\n\u001b[0m\u001b[1;32m    246\u001b[0m \u001b[0;34m\u001b[0m\u001b[0m\n\u001b[1;32m    247\u001b[0m     \u001b[0;32mdef\u001b[0m \u001b[0m_run_script\u001b[0m\u001b[0;34m(\u001b[0m\u001b[0mself\u001b[0m\u001b[0;34m,\u001b[0m \u001b[0mp\u001b[0m\u001b[0;34m,\u001b[0m \u001b[0mcell\u001b[0m\u001b[0;34m,\u001b[0m \u001b[0mto_close\u001b[0m\u001b[0;34m)\u001b[0m\u001b[0;34m:\u001b[0m\u001b[0;34m\u001b[0m\u001b[0;34m\u001b[0m\u001b[0m\n",
      "\u001b[0;31mCalledProcessError\u001b[0m: Command 'b'\\nBUCKET=datasets-rabbit\\nOUTDIR=gs://${BUCKET}/models\\nJOBID=rabbit_$(date -u +%y%m%d_%H%M%S)\\nTFVERSION=2.1\\nPYTHONVERSION=3.7\\n\\n\\ngcloud ai-platform jobs submit training ${JOBID} \\\\\\n    --region=us-central1 \\\\\\n    --module-name=$(pwd)/trainer/task.py \\\\\\n    --package-path=$(pwd)/trainer \\\\\\n    --job-dir=${OUTDIR} \\\\\\n    --staging-bucket=gs://${BUCKET} \\\\\\n    --master-machine-type=n1-standard-8 \\\\\\n    --scale-tier=CUSTOM \\\\\\n    --runtime-version=${TFVERSION} \\\\\\n    --python-version=${PYTHONVERSION} \\\\\\n    --\\\\\\n    --BUCKET=${BUCKET} \\\\\\n    --FILE_TRAIN=train_census.csv \\\\\\n    --FILE_VAL=validation_census.csv \\\\\\n    --OUTPUT_DIR={OUTDIR} \\\\\\n    --DENSE_UNITS=32 \\\\\\n    --EPOCHS=10 \\\\\\n    --BATCH_SIZE=256 \\n'' returned non-zero exit status 1."
     ]
    }
   ],
   "source": [
    "%%bash\n",
    "\n",
    "BUCKET=datasets-rabbit\n",
    "OUTDIR=gs://${BUCKET}/models\n",
    "JOBID=rabbit_$(date -u +%y%m%d_%H%M%S)\n",
    "TFVERSION=2.1\n",
    "PYTHONVERSION=3.7\n",
    "\n",
    "gcloud ai-platform jobs submit training ${JOBID} \\\n",
    "    --region=us-central1 \\\n",
    "    --module-name=$(pwd)/trainer/task.py \\\n",
    "    --package-path=$(pwd)/trainer \\\n",
    "    --job-dir=${OUTDIR} \\\n",
    "    --staging-bucket=gs://${BUCKET} \\\n",
    "    --master-machine-type=n1-standard-8 \\\n",
    "    --scale-tier=CUSTOM \\\n",
    "    --runtime-version=${TFVERSION} \\\n",
    "    --python-version=${PYTHONVERSION} \\\n",
    "    --\\\n",
    "    --BUCKET=${BUCKET} \\\n",
    "    --FILE_TRAIN=train_census.csv \\\n",
    "    --FILE_VAL=validation_census.csv \\\n",
    "    --OUTPUT_DIR={OUTDIR} \\\n",
    "    --DENSE_UNITS=32 \\\n",
    "    --EPOCHS=10 \\\n",
    "    --BATCH_SIZE=256 "
   ]
  },
  {
   "source": [
    "# run local"
   ],
   "cell_type": "markdown",
   "metadata": {}
  },
  {
   "cell_type": "code",
   "execution_count": 1,
   "metadata": {},
   "outputs": [
    {
     "output_type": "stream",
     "name": "stdout",
     "text": [
      "Model: \"model\"\n",
      "_________________________________________________________________\n",
      "Layer (type)                 Output Shape              Param #   \n",
      "=================================================================\n",
      "input_1 (InputLayer)         [(None, 80)]              0         \n",
      "_________________________________________________________________\n",
      "dense (Dense)                (None, 32)                2592      \n",
      "_________________________________________________________________\n",
      "dropout (Dropout)            (None, 32)                0         \n",
      "_________________________________________________________________\n",
      "dense_1 (Dense)              (None, 32)                1056      \n",
      "_________________________________________________________________\n",
      "dropout_1 (Dropout)          (None, 32)                0         \n",
      "_________________________________________________________________\n",
      "dense_2 (Dense)              (None, 1)                 33        \n",
      "=================================================================\n",
      "Total params: 3,681\n",
      "Trainable params: 3,681\n",
      "Non-trainable params: 0\n",
      "_________________________________________________________________\n",
      "None\n",
      "Epoch 1/10\n",
      "51/51 [==============================] - 1s 10ms/step - loss: 0.6964 - accuracy: 0.5449 - val_loss: 0.6489 - val_accuracy: 0.6038\n",
      "Epoch 2/10\n",
      "51/51 [==============================] - 0s 1ms/step - loss: 0.6516 - accuracy: 0.6052 - val_loss: 0.6020 - val_accuracy: 0.6873\n",
      "Epoch 3/10\n",
      "51/51 [==============================] - 0s 1ms/step - loss: 0.6231 - accuracy: 0.6525 - val_loss: 0.5615 - val_accuracy: 0.7146\n",
      "Epoch 4/10\n",
      "51/51 [==============================] - 0s 1ms/step - loss: 0.5897 - accuracy: 0.6910 - val_loss: 0.5479 - val_accuracy: 0.7209\n",
      "Epoch 5/10\n",
      "51/51 [==============================] - 0s 2ms/step - loss: 0.5739 - accuracy: 0.7010 - val_loss: 0.5364 - val_accuracy: 0.7209\n",
      "Epoch 6/10\n",
      "51/51 [==============================] - 0s 2ms/step - loss: 0.5649 - accuracy: 0.7088 - val_loss: 0.5332 - val_accuracy: 0.7241\n",
      "Epoch 7/10\n",
      "51/51 [==============================] - 0s 1ms/step - loss: 0.5650 - accuracy: 0.7095 - val_loss: 0.5281 - val_accuracy: 0.7253\n",
      "Epoch 8/10\n",
      "51/51 [==============================] - 0s 2ms/step - loss: 0.5577 - accuracy: 0.7190 - val_loss: 0.5245 - val_accuracy: 0.7285\n",
      "Epoch 9/10\n",
      "51/51 [==============================] - 0s 1ms/step - loss: 0.5562 - accuracy: 0.7129 - val_loss: 0.5215 - val_accuracy: 0.7285\n",
      "Epoch 10/10\n",
      "51/51 [==============================] - 0s 1ms/step - loss: 0.5481 - accuracy: 0.7226 - val_loss: 0.5200 - val_accuracy: 0.7297\n",
      "Exported trained model to models\n",
      "2021-05-05 11:50:22.856455: I tensorflow/compiler/jit/xla_cpu_device.cc:41] Not creating XLA devices, tf_xla_enable_xla_devices not set\n",
      "2021-05-05 11:50:22.856648: I tensorflow/core/platform/cpu_feature_guard.cc:142] This TensorFlow binary is optimized with oneAPI Deep Neural Network Library (oneDNN) to use the following CPU instructions in performance-critical operations:  AVX2 FMA\n",
      "To enable them in other operations, rebuild TensorFlow with the appropriate compiler flags.\n",
      "2021-05-05 11:50:32.985846: I tensorflow/compiler/mlir/mlir_graph_optimization_pass.cc:116] None of the MLIR optimization passes are enabled (registered 2)\n",
      "2021-05-05 11:50:34.862893: W tensorflow/python/util/util.cc:348] Sets are not currently considered sequences, but this may change in the future, so consider avoiding using them.\n"
     ]
    }
   ],
   "source": [
    "%%bash\n",
    "BUCKET=datasets-rabbit\n",
    "python trainer/task.py \\\n",
    "    --BUCKET=${BUCKET} \\\n",
    "    --FILE_TRAIN=train_census.csv \\\n",
    "    --FILE_VAL=validation_census.csv \\\n",
    "    --OUTPUT_DIR=models \\\n",
    "    --DENSE_UNITS=32 \\\n",
    "    --EPOCHS=10 \\\n",
    "    --BATCH_SIZE=256 "
   ]
  },
  {
   "cell_type": "code",
   "execution_count": null,
   "metadata": {},
   "outputs": [],
   "source": []
  }
 ]
}