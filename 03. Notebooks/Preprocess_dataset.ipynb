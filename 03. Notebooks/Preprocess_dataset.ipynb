{
 "metadata": {
  "language_info": {
   "codemirror_mode": {
    "name": "ipython",
    "version": 3
   },
   "file_extension": ".py",
   "mimetype": "text/x-python",
   "name": "python",
   "nbconvert_exporter": "python",
   "pygments_lexer": "ipython3",
   "version": "3.8.5"
  },
  "orig_nbformat": 2,
  "kernelspec": {
   "name": "python385jvsc74a57bd04a64d8e05436eb44142eb50eb52ba7fe11bf3b9fdb34fcbbedc3b49239359503",
   "display_name": "Python 3.8.5 64-bit ('base': conda)"
  }
 },
 "nbformat": 4,
 "nbformat_minor": 2,
 "cells": [
  {
   "source": [
    "# **Ejemplo de uso de un Notebbok de AI Platform Notebooks**\n",
    "En este ejmplo se realiza del procesamiento del dataset publico **_Census_** y se muestra como **_AI Platform Notebboks_** puede interactuar con otros servicios de **GCP**. <br><br>\n",
    "\n",
    "\n",
    "1. **Cargar Census Datset (desde Bigquery)**\n",
    "    * Cargar mediante la libreria de Bigquery para python.\n",
    "    * Cargar mediante las magias de Notebboks. [1.2](#1.2)\n",
    "    \n",
    "2. **Preprocesar dataset**\n",
    "    * Eliminar filas con valores corruptos (Nan, None).\n",
    "    * Transformar variables categoricas.\n",
    "    * Transformar variables categoricas ordinales.\n",
    "    \n",
    "3. **Cargar dataset a Google Cloud Storage (GCS)**\n",
    "    * Dividir dataset en Train, Validation, Test.\n",
    "    * Guardar Dataset en local.\n",
    "    * Guardar en GCS usando **gsutil**.\n",
    "\n",
    "4. **Entrenar modelo en local**"
   ],
   "cell_type": "markdown",
   "metadata": {}
  },
  {
   "source": [
    "# Referencias\n",
    "* [Bigquery client python](https://cloud.google.com/bigquery/docs/reference/libraries)\n",
    "* [Magias Bigquery](https://cloud.google.com/bigquery/docs/visualize-jupyter?hl=es-419)"
   ],
   "cell_type": "markdown",
   "metadata": {}
  },
  {
   "source": [],
   "cell_type": "markdown",
   "metadata": {}
  },
  {
   "cell_type": "code",
   "execution_count": null,
   "metadata": {},
   "outputs": [],
   "source": [
    "# instalar librerias\n",
    "!pip install -r requirements.txt"
   ]
  },
  {
   "cell_type": "code",
   "execution_count": 65,
   "metadata": {},
   "outputs": [],
   "source": [
    "from google.cloud import bigquery\n",
    "import pandas as pd\n",
    "import numpy as np\n",
    "import os"
   ]
  },
  {
   "cell_type": "code",
   "execution_count": 84,
   "metadata": {},
   "outputs": [],
   "source": [
    "local = False\n",
    "GPU = True"
   ]
  },
  {
   "cell_type": "code",
   "execution_count": 91,
   "metadata": {},
   "outputs": [
    {
     "output_type": "stream",
     "name": "stdout",
     "text": [
      "zsh:1: command not found: nvidia-smi\n"
     ]
    }
   ],
   "source": [
    "if local:\n",
    "    import os\n",
    "    os.environ[\"GOOGLE_APPLICATION_CREDENTIALS\"]=\"/Users/macbook/Desktop/Rabbit/key/key.json\"\n",
    "\n",
    "if GPU:\n",
    "    !nvidia-smi"
   ]
  },
  {
   "source": [
    "<img src=\"https://miro.medium.com/max/1000/1*Ie1xfpPGkGKn8W3im8lr7g.png\" title=\"BigQuery Logo\"/>"
   ],
   "cell_type": "markdown",
   "metadata": {}
  },
  {
   "source": [
    "## Cargar Census Datset (desde Bigquery)\n",
    "### Cargar mediante la libreria de Bigquery para python"
   ],
   "cell_type": "markdown",
   "metadata": {}
  },
  {
   "cell_type": "code",
   "execution_count": 29,
   "metadata": {},
   "outputs": [
    {
     "output_type": "stream",
     "name": "stdout",
     "text": [
      "The query data:\n",
      "name=39, count=(39, ' Private', 297847, ' 9th', 5, ' Married-civ-spouse', ' Other-service', ' Wife', ' Black', ' Female', 3411, 0, 34, ' United-States', ' <=50K')\n",
      "name=72, count=(72, ' Private', 74141, ' 9th', 5, ' Married-civ-spouse', ' Exec-managerial', ' Wife', ' Asian-Pac-Islander', ' Female', 0, 0, 48, ' United-States', ' >50K')\n",
      "name=45, count=(45, ' Private', 178215, ' 9th', 5, ' Married-civ-spouse', ' Machine-op-inspct', ' Wife', ' White', ' Female', 0, 0, 40, ' United-States', ' >50K')\n",
      "name=31, count=(31, ' Private', 86958, ' 9th', 5, ' Married-civ-spouse', ' Exec-managerial', ' Wife', ' White', ' Female', 0, 0, 40, ' United-States', ' <=50K')\n",
      "name=55, count=(55, ' Private', 176012, ' 9th', 5, ' Married-civ-spouse', ' Tech-support', ' Wife', ' White', ' Female', 0, 0, 23, ' United-States', ' <=50K')\n",
      "name=30, count=(30, ' Private', 61272, ' 9th', 5, ' Married-civ-spouse', ' Machine-op-inspct', ' Wife', ' White', ' Female', 0, 0, 40, ' Portugal', ' <=50K')\n",
      "name=46, count=(46, ' Self-emp-inc', 161386, ' 9th', 5, ' Married-civ-spouse', ' Adm-clerical', ' Wife', ' White', ' Female', 0, 0, 50, ' United-States', ' <=50K')\n",
      "name=28, count=(28, ' Private', 209801, ' 9th', 5, ' Married-civ-spouse', ' Machine-op-inspct', ' Wife', ' White', ' Female', 0, 0, 40, ' United-States', ' <=50K')\n",
      "name=37, count=(37, ' Private', 171090, ' 9th', 5, ' Married-civ-spouse', ' Machine-op-inspct', ' Wife', ' Black', ' Female', 0, 0, 48, ' United-States', ' <=50K')\n",
      "name=40, count=(40, ' Local-gov', 183096, ' 9th', 5, ' Married-civ-spouse', ' Other-service', ' Wife', ' White', ' Female', 0, 0, 40, ' Yugoslavia', ' >50K')\n"
     ]
    }
   ],
   "source": [
    "# Instancio cliente de BigQuery\n",
    "client = bigquery.Client()\n",
    "\n",
    "query = \"\"\"\n",
    "    SELECT\n",
    "    *\n",
    "    FROM\n",
    "    `bigquery-public-data.ml_datasets.census_adult_income`\n",
    "    LIMIT\n",
    "    10;\n",
    "\"\"\"\n",
    "query_job = client.query(query)  # Make an API request.\n",
    "\n",
    "print(\"The query data:\")\n",
    "for i,row in enumerate(query_job):\n",
    "    # Row values can be accessed by field name or index.\n",
    "    print(\"name={}, count={}\".format(row[0], row[:]))"
   ]
  },
  {
   "source": [
    "<a id=’1.2’></a>\n",
    "### Cargar mediante las magias de Notebboks\n",
    "ejecutar consulta a bigquery para extraer el dataset census y guardarlo en la variable df.\n"
   ],
   "cell_type": "markdown",
   "metadata": {}
  },
  {
   "cell_type": "code",
   "execution_count": null,
   "metadata": {},
   "outputs": [],
   "source": [
    "%load_ext google.cloud.bigquery"
   ]
  },
  {
   "cell_type": "code",
   "execution_count": 44,
   "metadata": {},
   "outputs": [
    {
     "output_type": "stream",
     "name": "stderr",
     "text": [
      "Query complete after 0.00s: 100%|██████████| 2/2 [00:00<00:00, 325.05query/s]\n",
      "Downloading: 100%|██████████| 32561/32561 [00:03<00:00, 9928.95rows/s]\n"
     ]
    }
   ],
   "source": [
    "%%bigquery df\n",
    "SELECT\n",
    "  age,\n",
    "  workclass,\n",
    "  native_country,\n",
    "  marital_status,\n",
    "  education_num,\n",
    "  occupation,\n",
    "  race,\n",
    "  hours_per_week,\n",
    "  income_bracket,\n",
    "  CASE\n",
    "    WHEN MOD(functional_weight, 10) < 8 THEN 'training'\n",
    "    WHEN MOD(functional_weight, 10) = 8 THEN 'evaluation'\n",
    "    WHEN MOD(functional_weight, 10) = 9 THEN 'prediction'\n",
    "  END AS dataframe\n",
    "FROM\n",
    "  `bigquery-public-data.ml_datasets.census_adult_income`\n"
   ]
  },
  {
   "cell_type": "code",
   "execution_count": 51,
   "metadata": {},
   "outputs": [
    {
     "output_type": "stream",
     "name": "stdout",
     "text": [
      "Census Dataset tamaño ------> 32561\n"
     ]
    },
    {
     "output_type": "execute_result",
     "data": {
      "text/plain": [
       "   age workclass  native_country       marital_status  education_num  \\\n",
       "0   39   Private   United-States   Married-civ-spouse              5   \n",
       "1   72   Private   United-States   Married-civ-spouse              5   \n",
       "2   45   Private   United-States   Married-civ-spouse              5   \n",
       "3   31   Private   United-States   Married-civ-spouse              5   \n",
       "4   55   Private   United-States   Married-civ-spouse              5   \n",
       "\n",
       "           occupation                 race  hours_per_week income_bracket  \\\n",
       "0       Other-service                Black              34          <=50K   \n",
       "1     Exec-managerial   Asian-Pac-Islander              48           >50K   \n",
       "2   Machine-op-inspct                White              40           >50K   \n",
       "3     Exec-managerial                White              40          <=50K   \n",
       "4        Tech-support                White              23          <=50K   \n",
       "\n",
       "    dataframe  \n",
       "0    training  \n",
       "1    training  \n",
       "2    training  \n",
       "3  evaluation  \n",
       "4    training  "
      ],
      "text/html": "<div>\n<style scoped>\n    .dataframe tbody tr th:only-of-type {\n        vertical-align: middle;\n    }\n\n    .dataframe tbody tr th {\n        vertical-align: top;\n    }\n\n    .dataframe thead th {\n        text-align: right;\n    }\n</style>\n<table border=\"1\" class=\"dataframe\">\n  <thead>\n    <tr style=\"text-align: right;\">\n      <th></th>\n      <th>age</th>\n      <th>workclass</th>\n      <th>native_country</th>\n      <th>marital_status</th>\n      <th>education_num</th>\n      <th>occupation</th>\n      <th>race</th>\n      <th>hours_per_week</th>\n      <th>income_bracket</th>\n      <th>dataframe</th>\n    </tr>\n  </thead>\n  <tbody>\n    <tr>\n      <th>0</th>\n      <td>39</td>\n      <td>Private</td>\n      <td>United-States</td>\n      <td>Married-civ-spouse</td>\n      <td>5</td>\n      <td>Other-service</td>\n      <td>Black</td>\n      <td>34</td>\n      <td>&lt;=50K</td>\n      <td>training</td>\n    </tr>\n    <tr>\n      <th>1</th>\n      <td>72</td>\n      <td>Private</td>\n      <td>United-States</td>\n      <td>Married-civ-spouse</td>\n      <td>5</td>\n      <td>Exec-managerial</td>\n      <td>Asian-Pac-Islander</td>\n      <td>48</td>\n      <td>&gt;50K</td>\n      <td>training</td>\n    </tr>\n    <tr>\n      <th>2</th>\n      <td>45</td>\n      <td>Private</td>\n      <td>United-States</td>\n      <td>Married-civ-spouse</td>\n      <td>5</td>\n      <td>Machine-op-inspct</td>\n      <td>White</td>\n      <td>40</td>\n      <td>&gt;50K</td>\n      <td>training</td>\n    </tr>\n    <tr>\n      <th>3</th>\n      <td>31</td>\n      <td>Private</td>\n      <td>United-States</td>\n      <td>Married-civ-spouse</td>\n      <td>5</td>\n      <td>Exec-managerial</td>\n      <td>White</td>\n      <td>40</td>\n      <td>&lt;=50K</td>\n      <td>evaluation</td>\n    </tr>\n    <tr>\n      <th>4</th>\n      <td>55</td>\n      <td>Private</td>\n      <td>United-States</td>\n      <td>Married-civ-spouse</td>\n      <td>5</td>\n      <td>Tech-support</td>\n      <td>White</td>\n      <td>23</td>\n      <td>&lt;=50K</td>\n      <td>training</td>\n    </tr>\n  </tbody>\n</table>\n</div>"
     },
     "metadata": {},
     "execution_count": 51
    }
   ],
   "source": [
    "print(f\"Census Dataset tamaño ------> {len(df)}\")\n",
    "df.head()"
   ]
  },
  {
   "source": [
    "## Preprocesar dataset\n",
    "### Eliminar filas con valores corruptos (Nan, None)"
   ],
   "cell_type": "markdown",
   "metadata": {}
  },
  {
   "cell_type": "code",
   "execution_count": 54,
   "metadata": {},
   "outputs": [
    {
     "output_type": "stream",
     "name": "stdout",
     "text": [
      "Census Dataset tamaño ------> 32561\n"
     ]
    }
   ],
   "source": [
    "df = df.dropna()\n",
    "print(f\"Census Dataset tamaño ------> {len(df)}\")"
   ]
  },
  {
   "source": [
    "### Transformar variables categoricas"
   ],
   "cell_type": "markdown",
   "metadata": {}
  },
  {
   "cell_type": "code",
   "execution_count": 61,
   "metadata": {},
   "outputs": [
    {
     "output_type": "stream",
     "name": "stdout",
     "text": [
      "-------- workclass ----------\nworkclass: Number of unique values ------>  5\n[' Private', ' Self-emp-inc', ' Local-gov', ' ?', ' Self-emp-not-inc', ' Federal-gov', ' State-gov', ' Without-pay', ' Never-worked']\n----------------------------------------------\n\n-------- native_country ----------\nnative_country: Number of unique values ------>  9\n[' United-States', ' Portugal', ' Yugoslavia', ' Hong', ' Haiti', ' Dominican-Republic', ' Mexico', ' Guatemala', ' Cuba', ' ?', ' Japan', ' Laos', ' Philippines', ' Germany', ' Italy', ' El-Salvador', ' Vietnam', ' Canada', ' Puerto-Rico', ' Honduras', ' Jamaica', ' South', ' Trinadad&Tobago', ' Greece', ' Peru', ' Iran', ' Columbia', ' Scotland', ' China', ' Nicaragua', ' England', ' Poland', ' Outlying-US(Guam-USVI-etc)', ' Taiwan', ' Hungary', ' India', ' Ecuador', ' Thailand', ' Cambodia', ' France', ' Ireland', ' Holand-Netherlands']\n----------------------------------------------\n\n-------- marital_status ----------\nmarital_status: Number of unique values ------>  42\n[' Married-civ-spouse', ' Married-AF-spouse', ' Never-married', ' Divorced', ' Separated', ' Married-spouse-absent', ' Widowed']\n----------------------------------------------\n\n-------- occupation ----------\noccupation: Number of unique values ------>  7\n[' Other-service', ' Exec-managerial', ' Machine-op-inspct', ' Tech-support', ' Adm-clerical', ' ?', ' Farming-fishing', ' Priv-house-serv', ' Sales', ' Protective-serv', ' Transport-moving', ' Handlers-cleaners', ' Craft-repair', ' Prof-specialty', ' Armed-Forces']\n----------------------------------------------\n\n-------- race ----------\nrace: Number of unique values ------>  15\n[' Black', ' Asian-Pac-Islander', ' White', ' Amer-Indian-Eskimo', ' Other']\n----------------------------------------------\n\n"
     ]
    }
   ],
   "source": [
    "# explorar variables categoricas\n",
    "categorical_key = [\"workclass\", \"native_country\", \"marital_status\", \"occupation\", \"race\"]\n",
    "for key_col in categorical_key:\n",
    "    print(f\"-------- {key_col} ----------\")\n",
    "    ls = list(df[key_col].unique())\n",
    "    print(f\"{key_col}: Number of unique values ------>  {len(ls)}\")\n",
    "    print(ls)\n",
    "    print(\"----------------------------------------------\\n\")"
   ]
  },
  {
   "cell_type": "code",
   "execution_count": 62,
   "metadata": {},
   "outputs": [],
   "source": [
    "# Usar One Hot Encoding para convertir las categorias a numeros\n",
    "for key_col in categorical_key:\n",
    "    # one hot encoding\n",
    "    one_hot = pd.get_dummies(df[key_col], prefix=key_col)\n",
    "    # remove column\n",
    "    df = df.drop(key_col,axis = 1)\n",
    "    # add one hot encoding\n",
    "    df = df.join(one_hot)"
   ]
  },
  {
   "cell_type": "code",
   "execution_count": 63,
   "metadata": {},
   "outputs": [
    {
     "output_type": "execute_result",
     "data": {
      "text/plain": [
       "       age  education_num  hours_per_week income_bracket   dataframe  \\\n",
       "0       39              5              34          <=50K    training   \n",
       "1       72              5              48           >50K    training   \n",
       "2       45              5              40           >50K    training   \n",
       "3       31              5              40          <=50K  evaluation   \n",
       "4       55              5              23          <=50K    training   \n",
       "...    ...            ...             ...            ...         ...   \n",
       "32556   20             10              30          <=50K    training   \n",
       "32557   48             10              40           >50K    training   \n",
       "32558   22             10              43          <=50K    training   \n",
       "32559   20             10              20          <=50K    training   \n",
       "32560   43             10              40          <=50K    training   \n",
       "\n",
       "       workclass_ ?  workclass_ Federal-gov  workclass_ Local-gov  \\\n",
       "0                 0                       0                     0   \n",
       "1                 0                       0                     0   \n",
       "2                 0                       0                     0   \n",
       "3                 0                       0                     0   \n",
       "4                 0                       0                     0   \n",
       "...             ...                     ...                   ...   \n",
       "32556             0                       0                     0   \n",
       "32557             0                       0                     0   \n",
       "32558             0                       0                     1   \n",
       "32559             0                       0                     0   \n",
       "32560             0                       0                     0   \n",
       "\n",
       "       workclass_ Never-worked  workclass_ Private  ...  \\\n",
       "0                            0                   1  ...   \n",
       "1                            0                   1  ...   \n",
       "2                            0                   1  ...   \n",
       "3                            0                   1  ...   \n",
       "4                            0                   1  ...   \n",
       "...                        ...                 ...  ...   \n",
       "32556                        0                   1  ...   \n",
       "32557                        0                   1  ...   \n",
       "32558                        0                   0  ...   \n",
       "32559                        0                   1  ...   \n",
       "32560                        0                   0  ...   \n",
       "\n",
       "       occupation_ Prof-specialty  occupation_ Protective-serv  \\\n",
       "0                               0                            0   \n",
       "1                               0                            0   \n",
       "2                               0                            0   \n",
       "3                               0                            0   \n",
       "4                               0                            0   \n",
       "...                           ...                          ...   \n",
       "32556                           0                            0   \n",
       "32557                           0                            0   \n",
       "32558                           0                            1   \n",
       "32559                           0                            0   \n",
       "32560                           0                            0   \n",
       "\n",
       "       occupation_ Sales  occupation_ Tech-support  \\\n",
       "0                      0                         0   \n",
       "1                      0                         0   \n",
       "2                      0                         0   \n",
       "3                      0                         0   \n",
       "4                      0                         1   \n",
       "...                  ...                       ...   \n",
       "32556                  0                         0   \n",
       "32557                  0                         0   \n",
       "32558                  0                         0   \n",
       "32559                  0                         0   \n",
       "32560                  0                         0   \n",
       "\n",
       "       occupation_ Transport-moving  race_ Amer-Indian-Eskimo  \\\n",
       "0                                 0                         0   \n",
       "1                                 0                         0   \n",
       "2                                 0                         0   \n",
       "3                                 0                         0   \n",
       "4                                 0                         0   \n",
       "...                             ...                       ...   \n",
       "32556                             0                         0   \n",
       "32557                             0                         0   \n",
       "32558                             0                         0   \n",
       "32559                             0                         0   \n",
       "32560                             0                         0   \n",
       "\n",
       "       race_ Asian-Pac-Islander  race_ Black  race_ Other  race_ White  \n",
       "0                             0            1            0            0  \n",
       "1                             1            0            0            0  \n",
       "2                             0            0            0            1  \n",
       "3                             0            0            0            1  \n",
       "4                             0            0            0            1  \n",
       "...                         ...          ...          ...          ...  \n",
       "32556                         1            0            0            0  \n",
       "32557                         1            0            0            0  \n",
       "32558                         0            0            0            1  \n",
       "32559                         0            0            0            1  \n",
       "32560                         0            0            0            1  \n",
       "\n",
       "[32561 rows x 83 columns]"
      ],
      "text/html": "<div>\n<style scoped>\n    .dataframe tbody tr th:only-of-type {\n        vertical-align: middle;\n    }\n\n    .dataframe tbody tr th {\n        vertical-align: top;\n    }\n\n    .dataframe thead th {\n        text-align: right;\n    }\n</style>\n<table border=\"1\" class=\"dataframe\">\n  <thead>\n    <tr style=\"text-align: right;\">\n      <th></th>\n      <th>age</th>\n      <th>education_num</th>\n      <th>hours_per_week</th>\n      <th>income_bracket</th>\n      <th>dataframe</th>\n      <th>workclass_ ?</th>\n      <th>workclass_ Federal-gov</th>\n      <th>workclass_ Local-gov</th>\n      <th>workclass_ Never-worked</th>\n      <th>workclass_ Private</th>\n      <th>...</th>\n      <th>occupation_ Prof-specialty</th>\n      <th>occupation_ Protective-serv</th>\n      <th>occupation_ Sales</th>\n      <th>occupation_ Tech-support</th>\n      <th>occupation_ Transport-moving</th>\n      <th>race_ Amer-Indian-Eskimo</th>\n      <th>race_ Asian-Pac-Islander</th>\n      <th>race_ Black</th>\n      <th>race_ Other</th>\n      <th>race_ White</th>\n    </tr>\n  </thead>\n  <tbody>\n    <tr>\n      <th>0</th>\n      <td>39</td>\n      <td>5</td>\n      <td>34</td>\n      <td>&lt;=50K</td>\n      <td>training</td>\n      <td>0</td>\n      <td>0</td>\n      <td>0</td>\n      <td>0</td>\n      <td>1</td>\n      <td>...</td>\n      <td>0</td>\n      <td>0</td>\n      <td>0</td>\n      <td>0</td>\n      <td>0</td>\n      <td>0</td>\n      <td>0</td>\n      <td>1</td>\n      <td>0</td>\n      <td>0</td>\n    </tr>\n    <tr>\n      <th>1</th>\n      <td>72</td>\n      <td>5</td>\n      <td>48</td>\n      <td>&gt;50K</td>\n      <td>training</td>\n      <td>0</td>\n      <td>0</td>\n      <td>0</td>\n      <td>0</td>\n      <td>1</td>\n      <td>...</td>\n      <td>0</td>\n      <td>0</td>\n      <td>0</td>\n      <td>0</td>\n      <td>0</td>\n      <td>0</td>\n      <td>1</td>\n      <td>0</td>\n      <td>0</td>\n      <td>0</td>\n    </tr>\n    <tr>\n      <th>2</th>\n      <td>45</td>\n      <td>5</td>\n      <td>40</td>\n      <td>&gt;50K</td>\n      <td>training</td>\n      <td>0</td>\n      <td>0</td>\n      <td>0</td>\n      <td>0</td>\n      <td>1</td>\n      <td>...</td>\n      <td>0</td>\n      <td>0</td>\n      <td>0</td>\n      <td>0</td>\n      <td>0</td>\n      <td>0</td>\n      <td>0</td>\n      <td>0</td>\n      <td>0</td>\n      <td>1</td>\n    </tr>\n    <tr>\n      <th>3</th>\n      <td>31</td>\n      <td>5</td>\n      <td>40</td>\n      <td>&lt;=50K</td>\n      <td>evaluation</td>\n      <td>0</td>\n      <td>0</td>\n      <td>0</td>\n      <td>0</td>\n      <td>1</td>\n      <td>...</td>\n      <td>0</td>\n      <td>0</td>\n      <td>0</td>\n      <td>0</td>\n      <td>0</td>\n      <td>0</td>\n      <td>0</td>\n      <td>0</td>\n      <td>0</td>\n      <td>1</td>\n    </tr>\n    <tr>\n      <th>4</th>\n      <td>55</td>\n      <td>5</td>\n      <td>23</td>\n      <td>&lt;=50K</td>\n      <td>training</td>\n      <td>0</td>\n      <td>0</td>\n      <td>0</td>\n      <td>0</td>\n      <td>1</td>\n      <td>...</td>\n      <td>0</td>\n      <td>0</td>\n      <td>0</td>\n      <td>1</td>\n      <td>0</td>\n      <td>0</td>\n      <td>0</td>\n      <td>0</td>\n      <td>0</td>\n      <td>1</td>\n    </tr>\n    <tr>\n      <th>...</th>\n      <td>...</td>\n      <td>...</td>\n      <td>...</td>\n      <td>...</td>\n      <td>...</td>\n      <td>...</td>\n      <td>...</td>\n      <td>...</td>\n      <td>...</td>\n      <td>...</td>\n      <td>...</td>\n      <td>...</td>\n      <td>...</td>\n      <td>...</td>\n      <td>...</td>\n      <td>...</td>\n      <td>...</td>\n      <td>...</td>\n      <td>...</td>\n      <td>...</td>\n      <td>...</td>\n    </tr>\n    <tr>\n      <th>32556</th>\n      <td>20</td>\n      <td>10</td>\n      <td>30</td>\n      <td>&lt;=50K</td>\n      <td>training</td>\n      <td>0</td>\n      <td>0</td>\n      <td>0</td>\n      <td>0</td>\n      <td>1</td>\n      <td>...</td>\n      <td>0</td>\n      <td>0</td>\n      <td>0</td>\n      <td>0</td>\n      <td>0</td>\n      <td>0</td>\n      <td>1</td>\n      <td>0</td>\n      <td>0</td>\n      <td>0</td>\n    </tr>\n    <tr>\n      <th>32557</th>\n      <td>48</td>\n      <td>10</td>\n      <td>40</td>\n      <td>&gt;50K</td>\n      <td>training</td>\n      <td>0</td>\n      <td>0</td>\n      <td>0</td>\n      <td>0</td>\n      <td>1</td>\n      <td>...</td>\n      <td>0</td>\n      <td>0</td>\n      <td>0</td>\n      <td>0</td>\n      <td>0</td>\n      <td>0</td>\n      <td>1</td>\n      <td>0</td>\n      <td>0</td>\n      <td>0</td>\n    </tr>\n    <tr>\n      <th>32558</th>\n      <td>22</td>\n      <td>10</td>\n      <td>43</td>\n      <td>&lt;=50K</td>\n      <td>training</td>\n      <td>0</td>\n      <td>0</td>\n      <td>1</td>\n      <td>0</td>\n      <td>0</td>\n      <td>...</td>\n      <td>0</td>\n      <td>1</td>\n      <td>0</td>\n      <td>0</td>\n      <td>0</td>\n      <td>0</td>\n      <td>0</td>\n      <td>0</td>\n      <td>0</td>\n      <td>1</td>\n    </tr>\n    <tr>\n      <th>32559</th>\n      <td>20</td>\n      <td>10</td>\n      <td>20</td>\n      <td>&lt;=50K</td>\n      <td>training</td>\n      <td>0</td>\n      <td>0</td>\n      <td>0</td>\n      <td>0</td>\n      <td>1</td>\n      <td>...</td>\n      <td>0</td>\n      <td>0</td>\n      <td>0</td>\n      <td>0</td>\n      <td>0</td>\n      <td>0</td>\n      <td>0</td>\n      <td>0</td>\n      <td>0</td>\n      <td>1</td>\n    </tr>\n    <tr>\n      <th>32560</th>\n      <td>43</td>\n      <td>10</td>\n      <td>40</td>\n      <td>&lt;=50K</td>\n      <td>training</td>\n      <td>0</td>\n      <td>0</td>\n      <td>0</td>\n      <td>0</td>\n      <td>0</td>\n      <td>...</td>\n      <td>0</td>\n      <td>0</td>\n      <td>0</td>\n      <td>0</td>\n      <td>0</td>\n      <td>0</td>\n      <td>0</td>\n      <td>0</td>\n      <td>0</td>\n      <td>1</td>\n    </tr>\n  </tbody>\n</table>\n<p>32561 rows × 83 columns</p>\n</div>"
     },
     "metadata": {},
     "execution_count": 63
    }
   ],
   "source": [
    "df"
   ]
  },
  {
   "source": [
    "### Transformar variables categoricas ordinales"
   ],
   "cell_type": "markdown",
   "metadata": {}
  },
  {
   "cell_type": "code",
   "execution_count": 67,
   "metadata": {},
   "outputs": [
    {
     "output_type": "stream",
     "name": "stdout",
     "text": [
      "-------- age ----------\nage: Number of unique values ------>  73\n[17, 18, 19, 20, 21, 22, 23, 24, 25, 26, 27, 28, 29, 30, 31, 32, 33, 34, 35, 36, 37, 38, 39, 40, 41, 42, 43, 44, 45, 46, 47, 48, 49, 50, 51, 52, 53, 54, 55, 56, 57, 58, 59, 60, 61, 62, 63, 64, 65, 66, 67, 68, 69, 70, 71, 72, 73, 74, 75, 76, 77, 78, 79, 80, 81, 82, 83, 84, 85, 86, 87, 88, 90]\n----------------------------------------------\n\n-------- education_num ----------\neducation_num: Number of unique values ------>  16\n[1, 2, 3, 4, 5, 6, 7, 8, 9, 10, 11, 12, 13, 14, 15, 16]\n----------------------------------------------\n\n-------- hours_per_week ----------\nhours_per_week: Number of unique values ------>  94\n[1, 2, 3, 4, 5, 6, 7, 8, 9, 10, 11, 12, 13, 14, 15, 16, 17, 18, 19, 20, 21, 22, 23, 24, 25, 26, 27, 28, 29, 30, 31, 32, 33, 34, 35, 36, 37, 38, 39, 40, 41, 42, 43, 44, 45, 46, 47, 48, 49, 50, 51, 52, 53, 54, 55, 56, 57, 58, 59, 60, 61, 62, 63, 64, 65, 66, 67, 68, 70, 72, 73, 74, 75, 76, 77, 78, 80, 81, 82, 84, 85, 86, 87, 88, 89, 90, 91, 92, 94, 95, 96, 97, 98, 99]\n----------------------------------------------\n\n"
     ]
    }
   ],
   "source": [
    "# explorar variables categoricas ordinales\n",
    "categorical_key = [\"age\", \"education_num\", \"hours_per_week\"]\n",
    "for key_col in categorical_key:\n",
    "    print(f\"-------- {key_col} ----------\")\n",
    "    ls = list(np.sort(df[key_col].unique()))\n",
    "    print(f\"{key_col}: Number of unique values ------>  {len(ls)}\")\n",
    "    print(ls)\n",
    "    print(\"----------------------------------------------\\n\")"
   ]
  },
  {
   "cell_type": "code",
   "execution_count": 68,
   "metadata": {},
   "outputs": [],
   "source": [
    "# normalizar variables ordinales\n",
    "for key_col in categorical_key:\n",
    "    ls = np.sort(df[key_col].unique())\n",
    "    min = ls.min()\n",
    "    max = ls.max()\n",
    "    normalize = lambda x: (x-min)/(max-min)\n",
    "    df[key_col] = df[key_col].apply(normalize)\n"
   ]
  },
  {
   "cell_type": "code",
   "execution_count": 69,
   "metadata": {},
   "outputs": [
    {
     "output_type": "execute_result",
     "data": {
      "text/plain": [
       "            age  education_num  hours_per_week income_bracket   dataframe  \\\n",
       "0      0.301370       0.266667        0.336735          <=50K    training   \n",
       "1      0.753425       0.266667        0.479592           >50K    training   \n",
       "2      0.383562       0.266667        0.397959           >50K    training   \n",
       "3      0.191781       0.266667        0.397959          <=50K  evaluation   \n",
       "4      0.520548       0.266667        0.224490          <=50K    training   \n",
       "...         ...            ...             ...            ...         ...   \n",
       "32556  0.041096       0.600000        0.295918          <=50K    training   \n",
       "32557  0.424658       0.600000        0.397959           >50K    training   \n",
       "32558  0.068493       0.600000        0.428571          <=50K    training   \n",
       "32559  0.041096       0.600000        0.193878          <=50K    training   \n",
       "32560  0.356164       0.600000        0.397959          <=50K    training   \n",
       "\n",
       "       workclass_ ?  workclass_ Federal-gov  workclass_ Local-gov  \\\n",
       "0                 0                       0                     0   \n",
       "1                 0                       0                     0   \n",
       "2                 0                       0                     0   \n",
       "3                 0                       0                     0   \n",
       "4                 0                       0                     0   \n",
       "...             ...                     ...                   ...   \n",
       "32556             0                       0                     0   \n",
       "32557             0                       0                     0   \n",
       "32558             0                       0                     1   \n",
       "32559             0                       0                     0   \n",
       "32560             0                       0                     0   \n",
       "\n",
       "       workclass_ Never-worked  workclass_ Private  ...  \\\n",
       "0                            0                   1  ...   \n",
       "1                            0                   1  ...   \n",
       "2                            0                   1  ...   \n",
       "3                            0                   1  ...   \n",
       "4                            0                   1  ...   \n",
       "...                        ...                 ...  ...   \n",
       "32556                        0                   1  ...   \n",
       "32557                        0                   1  ...   \n",
       "32558                        0                   0  ...   \n",
       "32559                        0                   1  ...   \n",
       "32560                        0                   0  ...   \n",
       "\n",
       "       occupation_ Prof-specialty  occupation_ Protective-serv  \\\n",
       "0                               0                            0   \n",
       "1                               0                            0   \n",
       "2                               0                            0   \n",
       "3                               0                            0   \n",
       "4                               0                            0   \n",
       "...                           ...                          ...   \n",
       "32556                           0                            0   \n",
       "32557                           0                            0   \n",
       "32558                           0                            1   \n",
       "32559                           0                            0   \n",
       "32560                           0                            0   \n",
       "\n",
       "       occupation_ Sales  occupation_ Tech-support  \\\n",
       "0                      0                         0   \n",
       "1                      0                         0   \n",
       "2                      0                         0   \n",
       "3                      0                         0   \n",
       "4                      0                         1   \n",
       "...                  ...                       ...   \n",
       "32556                  0                         0   \n",
       "32557                  0                         0   \n",
       "32558                  0                         0   \n",
       "32559                  0                         0   \n",
       "32560                  0                         0   \n",
       "\n",
       "       occupation_ Transport-moving  race_ Amer-Indian-Eskimo  \\\n",
       "0                                 0                         0   \n",
       "1                                 0                         0   \n",
       "2                                 0                         0   \n",
       "3                                 0                         0   \n",
       "4                                 0                         0   \n",
       "...                             ...                       ...   \n",
       "32556                             0                         0   \n",
       "32557                             0                         0   \n",
       "32558                             0                         0   \n",
       "32559                             0                         0   \n",
       "32560                             0                         0   \n",
       "\n",
       "       race_ Asian-Pac-Islander  race_ Black  race_ Other  race_ White  \n",
       "0                             0            1            0            0  \n",
       "1                             1            0            0            0  \n",
       "2                             0            0            0            1  \n",
       "3                             0            0            0            1  \n",
       "4                             0            0            0            1  \n",
       "...                         ...          ...          ...          ...  \n",
       "32556                         1            0            0            0  \n",
       "32557                         1            0            0            0  \n",
       "32558                         0            0            0            1  \n",
       "32559                         0            0            0            1  \n",
       "32560                         0            0            0            1  \n",
       "\n",
       "[32561 rows x 83 columns]"
      ],
      "text/html": "<div>\n<style scoped>\n    .dataframe tbody tr th:only-of-type {\n        vertical-align: middle;\n    }\n\n    .dataframe tbody tr th {\n        vertical-align: top;\n    }\n\n    .dataframe thead th {\n        text-align: right;\n    }\n</style>\n<table border=\"1\" class=\"dataframe\">\n  <thead>\n    <tr style=\"text-align: right;\">\n      <th></th>\n      <th>age</th>\n      <th>education_num</th>\n      <th>hours_per_week</th>\n      <th>income_bracket</th>\n      <th>dataframe</th>\n      <th>workclass_ ?</th>\n      <th>workclass_ Federal-gov</th>\n      <th>workclass_ Local-gov</th>\n      <th>workclass_ Never-worked</th>\n      <th>workclass_ Private</th>\n      <th>...</th>\n      <th>occupation_ Prof-specialty</th>\n      <th>occupation_ Protective-serv</th>\n      <th>occupation_ Sales</th>\n      <th>occupation_ Tech-support</th>\n      <th>occupation_ Transport-moving</th>\n      <th>race_ Amer-Indian-Eskimo</th>\n      <th>race_ Asian-Pac-Islander</th>\n      <th>race_ Black</th>\n      <th>race_ Other</th>\n      <th>race_ White</th>\n    </tr>\n  </thead>\n  <tbody>\n    <tr>\n      <th>0</th>\n      <td>0.301370</td>\n      <td>0.266667</td>\n      <td>0.336735</td>\n      <td>&lt;=50K</td>\n      <td>training</td>\n      <td>0</td>\n      <td>0</td>\n      <td>0</td>\n      <td>0</td>\n      <td>1</td>\n      <td>...</td>\n      <td>0</td>\n      <td>0</td>\n      <td>0</td>\n      <td>0</td>\n      <td>0</td>\n      <td>0</td>\n      <td>0</td>\n      <td>1</td>\n      <td>0</td>\n      <td>0</td>\n    </tr>\n    <tr>\n      <th>1</th>\n      <td>0.753425</td>\n      <td>0.266667</td>\n      <td>0.479592</td>\n      <td>&gt;50K</td>\n      <td>training</td>\n      <td>0</td>\n      <td>0</td>\n      <td>0</td>\n      <td>0</td>\n      <td>1</td>\n      <td>...</td>\n      <td>0</td>\n      <td>0</td>\n      <td>0</td>\n      <td>0</td>\n      <td>0</td>\n      <td>0</td>\n      <td>1</td>\n      <td>0</td>\n      <td>0</td>\n      <td>0</td>\n    </tr>\n    <tr>\n      <th>2</th>\n      <td>0.383562</td>\n      <td>0.266667</td>\n      <td>0.397959</td>\n      <td>&gt;50K</td>\n      <td>training</td>\n      <td>0</td>\n      <td>0</td>\n      <td>0</td>\n      <td>0</td>\n      <td>1</td>\n      <td>...</td>\n      <td>0</td>\n      <td>0</td>\n      <td>0</td>\n      <td>0</td>\n      <td>0</td>\n      <td>0</td>\n      <td>0</td>\n      <td>0</td>\n      <td>0</td>\n      <td>1</td>\n    </tr>\n    <tr>\n      <th>3</th>\n      <td>0.191781</td>\n      <td>0.266667</td>\n      <td>0.397959</td>\n      <td>&lt;=50K</td>\n      <td>evaluation</td>\n      <td>0</td>\n      <td>0</td>\n      <td>0</td>\n      <td>0</td>\n      <td>1</td>\n      <td>...</td>\n      <td>0</td>\n      <td>0</td>\n      <td>0</td>\n      <td>0</td>\n      <td>0</td>\n      <td>0</td>\n      <td>0</td>\n      <td>0</td>\n      <td>0</td>\n      <td>1</td>\n    </tr>\n    <tr>\n      <th>4</th>\n      <td>0.520548</td>\n      <td>0.266667</td>\n      <td>0.224490</td>\n      <td>&lt;=50K</td>\n      <td>training</td>\n      <td>0</td>\n      <td>0</td>\n      <td>0</td>\n      <td>0</td>\n      <td>1</td>\n      <td>...</td>\n      <td>0</td>\n      <td>0</td>\n      <td>0</td>\n      <td>1</td>\n      <td>0</td>\n      <td>0</td>\n      <td>0</td>\n      <td>0</td>\n      <td>0</td>\n      <td>1</td>\n    </tr>\n    <tr>\n      <th>...</th>\n      <td>...</td>\n      <td>...</td>\n      <td>...</td>\n      <td>...</td>\n      <td>...</td>\n      <td>...</td>\n      <td>...</td>\n      <td>...</td>\n      <td>...</td>\n      <td>...</td>\n      <td>...</td>\n      <td>...</td>\n      <td>...</td>\n      <td>...</td>\n      <td>...</td>\n      <td>...</td>\n      <td>...</td>\n      <td>...</td>\n      <td>...</td>\n      <td>...</td>\n      <td>...</td>\n    </tr>\n    <tr>\n      <th>32556</th>\n      <td>0.041096</td>\n      <td>0.600000</td>\n      <td>0.295918</td>\n      <td>&lt;=50K</td>\n      <td>training</td>\n      <td>0</td>\n      <td>0</td>\n      <td>0</td>\n      <td>0</td>\n      <td>1</td>\n      <td>...</td>\n      <td>0</td>\n      <td>0</td>\n      <td>0</td>\n      <td>0</td>\n      <td>0</td>\n      <td>0</td>\n      <td>1</td>\n      <td>0</td>\n      <td>0</td>\n      <td>0</td>\n    </tr>\n    <tr>\n      <th>32557</th>\n      <td>0.424658</td>\n      <td>0.600000</td>\n      <td>0.397959</td>\n      <td>&gt;50K</td>\n      <td>training</td>\n      <td>0</td>\n      <td>0</td>\n      <td>0</td>\n      <td>0</td>\n      <td>1</td>\n      <td>...</td>\n      <td>0</td>\n      <td>0</td>\n      <td>0</td>\n      <td>0</td>\n      <td>0</td>\n      <td>0</td>\n      <td>1</td>\n      <td>0</td>\n      <td>0</td>\n      <td>0</td>\n    </tr>\n    <tr>\n      <th>32558</th>\n      <td>0.068493</td>\n      <td>0.600000</td>\n      <td>0.428571</td>\n      <td>&lt;=50K</td>\n      <td>training</td>\n      <td>0</td>\n      <td>0</td>\n      <td>1</td>\n      <td>0</td>\n      <td>0</td>\n      <td>...</td>\n      <td>0</td>\n      <td>1</td>\n      <td>0</td>\n      <td>0</td>\n      <td>0</td>\n      <td>0</td>\n      <td>0</td>\n      <td>0</td>\n      <td>0</td>\n      <td>1</td>\n    </tr>\n    <tr>\n      <th>32559</th>\n      <td>0.041096</td>\n      <td>0.600000</td>\n      <td>0.193878</td>\n      <td>&lt;=50K</td>\n      <td>training</td>\n      <td>0</td>\n      <td>0</td>\n      <td>0</td>\n      <td>0</td>\n      <td>1</td>\n      <td>...</td>\n      <td>0</td>\n      <td>0</td>\n      <td>0</td>\n      <td>0</td>\n      <td>0</td>\n      <td>0</td>\n      <td>0</td>\n      <td>0</td>\n      <td>0</td>\n      <td>1</td>\n    </tr>\n    <tr>\n      <th>32560</th>\n      <td>0.356164</td>\n      <td>0.600000</td>\n      <td>0.397959</td>\n      <td>&lt;=50K</td>\n      <td>training</td>\n      <td>0</td>\n      <td>0</td>\n      <td>0</td>\n      <td>0</td>\n      <td>0</td>\n      <td>...</td>\n      <td>0</td>\n      <td>0</td>\n      <td>0</td>\n      <td>0</td>\n      <td>0</td>\n      <td>0</td>\n      <td>0</td>\n      <td>0</td>\n      <td>0</td>\n      <td>1</td>\n    </tr>\n  </tbody>\n</table>\n<p>32561 rows × 83 columns</p>\n</div>"
     },
     "metadata": {},
     "execution_count": 69
    }
   ],
   "source": [
    "\"\"\"\n",
    "transformar etiquetas \n",
    "\n",
    "<=50K ----> 1\n",
    ">50K -----> 0\n",
    "\"\"\"\n",
    "df[\"income_bracket\"] = df[\"income_bracket\"].apply(lambda x: 1 if x==\" <=50K\" else 0)\n",
    "df"
   ]
  },
  {
   "source": [
    "<img src=\"https://sysblinders.com/wp-content/uploads/2020/08/google-cloud-storage.png\" title=\"GCS Logo\"/>"
   ],
   "cell_type": "markdown",
   "metadata": {}
  },
  {
   "source": [
    "## Cargar dataset a Google Cloud Storage (GCS)\n",
    "### Dividir dataset en Train, Validation, Test"
   ],
   "cell_type": "markdown",
   "metadata": {}
  },
  {
   "cell_type": "code",
   "execution_count": 70,
   "metadata": {},
   "outputs": [],
   "source": [
    "# filtrar por la etiqueta el dataset preprocesado\n",
    "df_train = df[df[\"dataframe\"]==\"training\"]\n",
    "df_validation = df[df[\"dataframe\"]==\"evaluation\"]\n",
    "df_test = df[df[\"dataframe\"]==\"prediction\"]"
   ]
  },
  {
   "source": [
    "### Guardar Dataset en local"
   ],
   "cell_type": "markdown",
   "metadata": {}
  },
  {
   "cell_type": "code",
   "execution_count": 76,
   "metadata": {},
   "outputs": [],
   "source": [
    "PATH_DATASET = \"Dataset\"\n",
    "if not os.path.exists(PATH_DATASET):\n",
    "    os.makedirs(PATH_DATASET)\n",
    "\n",
    "df_train.to_csv(\"Dataset/train_census.csv\",index=False)\n",
    "df_validation.to_csv(\"Dataset/validation_census.csv\",index=False)\n",
    "df_test.to_csv(\"Dataset/test_census.csv\",index=False)"
   ]
  },
  {
   "source": [
    "### Guardar en GCS"
   ],
   "cell_type": "markdown",
   "metadata": {}
  },
  {
   "cell_type": "code",
   "execution_count": 78,
   "metadata": {},
   "outputs": [
    {
     "output_type": "stream",
     "name": "stderr",
     "text": [
      "Copying file://Dataset/validation_census.csv [Content-Type=text/csv]...\nCopying file://Dataset/test_census.csv [Content-Type=text/csv]...\nCopying file://Dataset/train_census.csv [Content-Type=text/csv]...\n-\nOperation completed over 3 objects/6.9 MiB.                                      \n"
     ]
    }
   ],
   "source": [
    "%%bash\n",
    "PATH_DATASET=Dataset\n",
    "BUCKET=datasets-rabbit\n",
    "gsutil cp -r ${PATH_DATASET} gs://${BUCKET}"
   ]
  },
  {
   "source": [
    "<img src=\"https://cdn.freelogovectors.net/wp-content/uploads/2018/07/tensorflow-logo.png\" title=\"GCS Logo\"/>"
   ],
   "cell_type": "markdown",
   "metadata": {}
  },
  {
   "source": [
    "## Entrenar modelo en local"
   ],
   "cell_type": "markdown",
   "metadata": {}
  },
  {
   "cell_type": "code",
   "execution_count": 82,
   "metadata": {},
   "outputs": [
    {
     "output_type": "stream",
     "name": "stdout",
     "text": [
      "Model: \"model\"\n",
      "_________________________________________________________________\n",
      "Layer (type)                 Output Shape              Param #   \n",
      "=================================================================\n",
      "input_1 (InputLayer)         [(None, 80)]              0         \n",
      "_________________________________________________________________\n",
      "dense (Dense)                (None, 32)                2592      \n",
      "_________________________________________________________________\n",
      "dropout (Dropout)            (None, 32)                0         \n",
      "_________________________________________________________________\n",
      "dense_1 (Dense)              (None, 32)                1056      \n",
      "_________________________________________________________________\n",
      "dropout_1 (Dropout)          (None, 32)                0         \n",
      "_________________________________________________________________\n",
      "dense_2 (Dense)              (None, 1)                 33        \n",
      "=================================================================\n",
      "Total params: 3,681\n",
      "Trainable params: 3,681\n",
      "Non-trainable params: 0\n",
      "_________________________________________________________________\n",
      "None\n",
      "\n",
      "\n",
      "Prepare dataset ...\n",
      "Epoch 1/10\n",
      "51/51 [==============================] - 1s 11ms/step - loss: 0.6914 - accuracy: 0.5465 - val_loss: 0.6472 - val_accuracy: 0.6006\n",
      "Epoch 2/10\n",
      "51/51 [==============================] - 0s 2ms/step - loss: 0.6550 - accuracy: 0.6094 - val_loss: 0.5968 - val_accuracy: 0.7152\n",
      "Epoch 3/10\n",
      "51/51 [==============================] - 0s 2ms/step - loss: 0.6110 - accuracy: 0.6654 - val_loss: 0.5596 - val_accuracy: 0.7228\n",
      "Epoch 4/10\n",
      "51/51 [==============================] - 0s 1ms/step - loss: 0.5883 - accuracy: 0.6816 - val_loss: 0.5441 - val_accuracy: 0.7266\n",
      "Epoch 5/10\n",
      "51/51 [==============================] - 0s 1ms/step - loss: 0.5692 - accuracy: 0.7048 - val_loss: 0.5349 - val_accuracy: 0.7278\n",
      "Epoch 6/10\n",
      "51/51 [==============================] - 0s 2ms/step - loss: 0.5626 - accuracy: 0.7121 - val_loss: 0.5321 - val_accuracy: 0.7247\n",
      "Epoch 7/10\n",
      "51/51 [==============================] - 0s 2ms/step - loss: 0.5615 - accuracy: 0.7106 - val_loss: 0.5284 - val_accuracy: 0.7253\n",
      "Epoch 8/10\n",
      "51/51 [==============================] - 0s 1ms/step - loss: 0.5595 - accuracy: 0.7134 - val_loss: 0.5264 - val_accuracy: 0.7354\n",
      "Epoch 9/10\n",
      "51/51 [==============================] - 0s 1ms/step - loss: 0.5509 - accuracy: 0.7212 - val_loss: 0.5206 - val_accuracy: 0.7361\n",
      "Epoch 10/10\n",
      "51/51 [==============================] - 0s 1ms/step - loss: 0.5453 - accuracy: 0.7222 - val_loss: 0.5199 - val_accuracy: 0.7329\n",
      "Exported trained model to Model\n",
      "2021-05-09 17:27:36.667092: I tensorflow/compiler/jit/xla_cpu_device.cc:41] Not creating XLA devices, tf_xla_enable_xla_devices not set\n",
      "2021-05-09 17:27:36.669853: I tensorflow/core/platform/cpu_feature_guard.cc:142] This TensorFlow binary is optimized with oneAPI Deep Neural Network Library (oneDNN) to use the following CPU instructions in performance-critical operations:  AVX2 FMA\n",
      "To enable them in other operations, rebuild TensorFlow with the appropriate compiler flags.\n",
      "2021-05-09 17:27:39.198471: I tensorflow/compiler/mlir/mlir_graph_optimization_pass.cc:116] None of the MLIR optimization passes are enabled (registered 2)\n",
      "2021-05-09 17:27:41.240536: W tensorflow/python/util/util.cc:348] Sets are not currently considered sequences, but this may change in the future, so consider avoiding using them.\n"
     ]
    }
   ],
   "source": [
    "%%bash\n",
    "BUCKET=datasets-rabbit\n",
    "OUTPUT_DIR=Model\n",
    "python task.py \\\n",
    "    --BUCKET=${BUCKET} \\\n",
    "    --FILE_TRAIN=train_census.csv \\\n",
    "    --FILE_VAL=validation_census.csv \\\n",
    "    --OUTPUT_DIR=${OUTPUT_DIR} \\\n",
    "    --DENSE_UNITS=32 \\\n",
    "    --EPOCHS=10 \\\n",
    "    --BATCH_SIZE=256 "
   ]
  },
  {
   "cell_type": "code",
   "execution_count": null,
   "metadata": {},
   "outputs": [],
   "source": []
  }
 ]
}